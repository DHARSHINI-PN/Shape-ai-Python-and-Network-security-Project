{
  "nbformat": 4,
  "nbformat_minor": 0,
  "metadata": {
    "colab": {
      "name": "MD5_hashing.ipynb",
      "provenance": []
    },
    "kernelspec": {
      "name": "python3",
      "display_name": "Python 3"
    },
    "language_info": {
      "name": "python"
    }
  },
  "cells": [
    {
      "cell_type": "code",
      "metadata": {
        "colab": {
          "base_uri": "https://localhost:8080/"
        },
        "id": "XGVwGgfQgzZm",
        "outputId": "c13411b3-4a4b-4170-efd6-f2e0c12a9807"
      },
      "source": [
        "\n",
        "# working of MD5 (string - hexadecimal)\n",
        "  \n",
        "import hashlib\n",
        "  \n",
        "# initializing string\n",
        "str2hash = \"Hi Sam, my passkey is 12345\"\n",
        "  \n",
        "# encoding a message using encode()\n",
        "# then sending to md5()\n",
        "result = hashlib.md5(str2hash.encode())\n",
        "  \n",
        "# printing the equivalent hexadecimal value.\n",
        "print(\"The hexadecimal equivalent of hash is : \", end =\"\")\n",
        "print(result.hexdigest())"
      ],
      "execution_count": 5,
      "outputs": [
        {
          "output_type": "stream",
          "text": [
            "The hexadecimal equivalent of hash is : 53ad42acef9fca014beee1e0d684a46b\n"
          ],
          "name": "stdout"
        }
      ]
    }
  ]
}